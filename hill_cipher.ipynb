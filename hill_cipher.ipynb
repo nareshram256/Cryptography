{
 "cells": [
  {
   "cell_type": "code",
   "execution_count": 1,
   "source": [
    "import numpy as np\r\n",
    "import string\r\n",
    "from sympy import Matrix"
   ],
   "outputs": [],
   "metadata": {}
  },
  {
   "cell_type": "markdown",
   "source": [
    "# Helper Functions"
   ],
   "metadata": {}
  },
  {
   "cell_type": "code",
   "execution_count": 2,
   "source": [
    "def remove(input_string):\r\n",
    "    # bring input to lower case\r\n",
    "    input_string = input_string.lower()\r\n",
    "\r\n",
    "    # remove blank spaces\r\n",
    "    input_string = input_string.replace(\" \",\"\")\r\n",
    "\r\n",
    "    # ascii vallues of special characters: (32–47 / 58–64 / 91–96 / 123–126)\r\n",
    "    special_chars = []\r\n",
    "    for i in range(32, 58):\r\n",
    "        special_chars.append(i)\r\n",
    "    for i in range(58, 65):\r\n",
    "        special_chars.append(i)\r\n",
    "    for i in range(91, 97):\r\n",
    "        special_chars.append(i)\r\n",
    "    for i in range(123, 127):\r\n",
    "        special_chars.append(i)\r\n",
    "    \r\n",
    "    # remove special charcaters\r\n",
    "    for char in input_string:\r\n",
    "        # ord() returns ASCII value of the character supplied\r\n",
    "        if ord(char) in special_chars:\r\n",
    "            input_string = input_string.replace(char, \"\")\r\n",
    "\r\n",
    "    return input_string"
   ],
   "outputs": [],
   "metadata": {}
  },
  {
   "cell_type": "code",
   "execution_count": 3,
   "source": [
    "remove('Hello @Burouj_Armgaan1')"
   ],
   "outputs": [
    {
     "output_type": "execute_result",
     "data": {
      "text/plain": [
       "'helloburoujarmgaan'"
      ]
     },
     "metadata": {},
     "execution_count": 3
    }
   ],
   "metadata": {}
  },
  {
   "cell_type": "code",
   "execution_count": 4,
   "source": [
    "def preprocess_input(input_string, key_size):\r\n",
    "    # remove symbols and spaces\r\n",
    "    input_string = remove(input_string)\r\n",
    "\r\n",
    "    # account for variable length\r\n",
    "    if len(input_string) % key_size != 0:\r\n",
    "        extra = key_size - (len(input_string) % key_size)\r\n",
    "        input_string = input_string + extra * \"x\"\r\n",
    "\r\n",
    "    # replace characters by integers and return a list\r\n",
    "    # string.ascii_lowercase.index() replaces alphabets by ints in range 0 to 25.\r\n",
    "    input_numbers_list = [string.ascii_lowercase.index(char) for char in input_string]\r\n",
    "\r\n",
    "    # return reshaped numpy array\r\n",
    "    return np.array(input_numbers_list).reshape(-1, key_size)"
   ],
   "outputs": [],
   "metadata": {}
  },
  {
   "cell_type": "code",
   "execution_count": 5,
   "source": [
    "abc = 'abc'\r\n",
    "abc = abc + 3*\"x\""
   ],
   "outputs": [],
   "metadata": {}
  },
  {
   "cell_type": "code",
   "execution_count": 6,
   "source": [
    "preprocess_input('Hello @Burouj_Armgaan1B', key_size=3)"
   ],
   "outputs": [
    {
     "output_type": "execute_result",
     "data": {
      "text/plain": [
       "array([[ 7,  4, 11],\n",
       "       [11, 14,  1],\n",
       "       [20, 17, 14],\n",
       "       [20,  9,  0],\n",
       "       [17, 12,  6],\n",
       "       [ 0,  0, 13],\n",
       "       [ 1, 23, 23]])"
      ]
     },
     "metadata": {},
     "execution_count": 6
    }
   ],
   "metadata": {}
  },
  {
   "cell_type": "markdown",
   "source": [
    "# Encryption"
   ],
   "metadata": {}
  },
  {
   "cell_type": "code",
   "execution_count": 7,
   "source": [
    "def encrypt(input_string, key):\r\n",
    "\r\n",
    "    key_size = key.shape[0]\r\n",
    "\r\n",
    "    # preprocess input_string\r\n",
    "    input_array = preprocess_input(input_string, key_size)\r\n",
    "\r\n",
    "    # multiply modulo 26\r\n",
    "    cipher = np.matmul(input_array, key) % 26\r\n",
    "\r\n",
    "    # convert to list\r\n",
    "    cipher = list(cipher.ravel())\r\n",
    "\r\n",
    "    # relpace integers by characters\r\n",
    "    cipher = [chr(num + 97) for num in cipher]\r\n",
    "\r\n",
    "    # list to string\r\n",
    "    cipher = str.join(\"\", cipher)\r\n",
    "\r\n",
    "    return cipher"
   ],
   "outputs": [],
   "metadata": {}
  },
  {
   "cell_type": "code",
   "execution_count": 8,
   "source": [
    "key = np.array([\r\n",
    "    [3, 10, 20],\r\n",
    "    [20, 9, 17],\r\n",
    "    [9, 4, 17]]\r\n",
    ")"
   ],
   "outputs": [],
   "metadata": {}
  },
  {
   "cell_type": "code",
   "execution_count": 9,
   "source": [
    "encrypt('Hello @Burouj_Armgaan1B', key)"
   ],
   "outputs": [
    {
     "output_type": "execute_result",
     "data": {
      "text/plain": [
       "'sufkghgtrgvhhqwnanuxw'"
      ]
     },
     "metadata": {},
     "execution_count": 9
    }
   ],
   "metadata": {}
  },
  {
   "cell_type": "markdown",
   "source": [
    "# Decryption"
   ],
   "metadata": {}
  },
  {
   "cell_type": "code",
   "execution_count": 10,
   "source": [
    "def invert_key(key):\r\n",
    "    inv_key = Matrix(key).inv_mod(26)\r\n",
    "    return np.array(inv_key)"
   ],
   "outputs": [],
   "metadata": {}
  },
  {
   "cell_type": "code",
   "execution_count": 11,
   "source": [
    "def decrypt(input_string, inverted_key):\r\n",
    "    return encrypt(input_string, inverted_key)"
   ],
   "outputs": [],
   "metadata": {}
  },
  {
   "cell_type": "markdown",
   "source": [
    "# Test run"
   ],
   "metadata": {}
  },
  {
   "cell_type": "code",
   "execution_count": 13,
   "source": [
    "inv_key =invert_key(key)\r\n",
    "print('Plaintext: Hello @Burouj_Armgaan1B')\r\n",
    "print(\"Ciphertext:\", encrypt('Hello @Burouj_Armgaan1B', key))\r\n",
    "print(\"Decrypted:\", decrypt(encrypt('Hello @Burouj_Armgaan1B', key), inv_key))"
   ],
   "outputs": [
    {
     "output_type": "stream",
     "name": "stdout",
     "text": [
      "Plaintext: Hello @Burouj_Armgaan1B\n",
      "Ciphertext: sufkghgtrgvhhqwnanuxw\n",
      "Decrypted: helloburoujarmgaanbxx\n"
     ]
    }
   ],
   "metadata": {}
  },
  {
   "cell_type": "code",
   "execution_count": null,
   "source": [],
   "outputs": [],
   "metadata": {}
  }
 ],
 "metadata": {
  "orig_nbformat": 4,
  "language_info": {
   "name": "python",
   "version": "3.7.6",
   "mimetype": "text/x-python",
   "codemirror_mode": {
    "name": "ipython",
    "version": 3
   },
   "pygments_lexer": "ipython3",
   "nbconvert_exporter": "python",
   "file_extension": ".py"
  },
  "kernelspec": {
   "name": "python3",
   "display_name": "Python 3.7.6 64-bit ('base': conda)"
  },
  "interpreter": {
   "hash": "c0f70214c0dd213f07f54ee5d6e0ea644bdbba35113c9bfe8aaa0d1db03ad5dd"
  }
 },
 "nbformat": 4,
 "nbformat_minor": 2
}